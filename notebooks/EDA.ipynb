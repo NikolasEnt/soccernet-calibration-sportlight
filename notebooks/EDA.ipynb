{
 "cells": [
  {
   "cell_type": "markdown",
   "id": "a1eb4235",
   "metadata": {},
   "source": [
    "## EDA\n",
    "\n",
    "The notebook demonstrates the raw annotations and the derived keypoints, utilized in the model training process."
   ]
  },
  {
   "cell_type": "code",
   "execution_count": null,
   "id": "b2e5a481",
   "metadata": {},
   "outputs": [],
   "source": [
    "import os\n",
    "import cv2\n",
    "import json\n",
    "import numpy as np\n",
    "from collections import defaultdict\n",
    "\n",
    "import matplotlib.pyplot as plt\n",
    "\n",
    "from src.datatools.reader import read_annot\n",
    "from src.datatools.intersections import get_intersections\n",
    "\n",
    "%load_ext autoreload\n",
    "%autoreload 2"
   ]
  },
  {
   "cell_type": "code",
   "execution_count": null,
   "id": "64db18e2",
   "metadata": {},
   "outputs": [],
   "source": [
    "sample_id = '00016'\n",
    "img_path = f'/workdir/data/dataset/valid/{sample_id}.jpg'\n",
    "annot_path = f'/workdir/data/dataset/valid/{sample_id}.json'"
   ]
  },
  {
   "cell_type": "code",
   "execution_count": null,
   "id": "651425b0",
   "metadata": {},
   "outputs": [],
   "source": [
    "# Print the sample annotation\n",
    "read_annot(annot_path)"
   ]
  },
  {
   "cell_type": "code",
   "execution_count": null,
   "id": "fb626360",
   "metadata": {},
   "outputs": [],
   "source": [
    "IMG_SIZE = (960, 540)\n",
    "\n",
    "POINT_COLOR = (0, 0, 255)\n",
    "INTERSECTION_COLOR = (255, 0, 0)\n",
    "CIRCLE_COLOR = (0, 255, 255)\n",
    "\n",
    "LINE_COLORS = {\n",
    "    \"Big rect. left bottom\": (45, 175, 80),\n",
    "    \"Big rect. left main\": (40, 175, 170),\n",
    "    \"Big rect. left top\": (255, 175, 65),\n",
    "    \"Big rect. right bottom\": (80, 0, 50),\n",
    "    \"Big rect. right main\": (70, 0, 40),\n",
    "    \"Big rect. right top\": (255, 0, 50),\n",
    "    \"Circle central\": (255, 0, 0),\n",
    "    \"Circle left\": (255, 127, 0),\n",
    "    \"Circle right\": (255, 0, 127),\n",
    "    \"Goal left crossbar\": (0, 0, 255),\n",
    "    \"Goal left post left \": (0, 127, 255),\n",
    "    \"Goal left post right\": (127, 0, 255),\n",
    "    \"Goal right crossbar\": (0, 0, 255),\n",
    "    \"Goal right post left\": (0, 255, 255),\n",
    "    \"Goal right post right\": (255, 0, 255),\n",
    "    \"Middle line\": (0, 0, 0),\n",
    "    \"Side line bottom\": (65, 85, 150),\n",
    "    \"Side line left\": (50, 255, 255),\n",
    "    \"Side line right\": (85, 60, 0),\n",
    "    \"Side line top\": (255, 85, 65),\n",
    "    \"Small rect. left bottom\": (0, 127, 127),\n",
    "    \"Small rect. left main\": (127, 127, 127),\n",
    "    \"Small rect. left top\": (127, 127, 0),\n",
    "    \"Small rect. right bottom\": (0, 127, 127),\n",
    "    \"Small rect. right main\": (127, 127, 127),\n",
    "    \"Small rect. right top\": (127, 127, 0)\n",
    "}"
   ]
  },
  {
   "cell_type": "code",
   "execution_count": null,
   "id": "3b5abea4",
   "metadata": {},
   "outputs": [],
   "source": [
    "# Blue circles - actual points, used in model training and prediucted\n",
    "# Small red dots - points from annotation as-is\n",
    "def draw_annot(img, annot, draw_circles=False):\n",
    "    h, w, _ = img.shape\n",
    "    for cls in annot:\n",
    "        points = annot[cls]\n",
    "        points = [(int(round(point[0]*w)), int(round(point[1]*h))) for point in points]\n",
    "        for point in points:\n",
    "            cv2.circle(img, point, 1, POINT_COLOR, 1)\n",
    "            if draw_circles:\n",
    "                cv2.circle(img, point, 5, CIRCLE_COLOR, 1)\n",
    "        if len(points) > 1:\n",
    "            for i in range(len(points)-1):\n",
    "                cv2.line(img, points[i], points[i+1], LINE_COLORS[cls], 1, cv2.LINE_AA)\n",
    "    inters, _ = get_intersections(annot)\n",
    "    print(inters)\n",
    "    for point in inters.values():\n",
    "        if point is not None:\n",
    "            point = (int(round(point[0])), int(round(point[1])))\n",
    "            cv2.circle(img, point, 4, INTERSECTION_COLOR, 1)\n",
    "    return img"
   ]
  },
  {
   "cell_type": "code",
   "execution_count": null,
   "id": "5a1b73ac",
   "metadata": {},
   "outputs": [],
   "source": [
    "def show_img(img):\n",
    "    plt.figure(dpi=150)\n",
    "    plt.imshow(img[:, :, ::-1])  # BGR2RGB\n",
    "    plt.show()"
   ]
  },
  {
   "cell_type": "code",
   "execution_count": null,
   "id": "1af304b5",
   "metadata": {},
   "outputs": [],
   "source": [
    "img = cv2.imread(img_path)\n",
    "annot = read_annot(annot_path)\n",
    "annot_img = draw_annot(img, annot, False)\n",
    "show_img(annot_img)"
   ]
  },
  {
   "cell_type": "code",
   "execution_count": null,
   "id": "befff8ee",
   "metadata": {},
   "outputs": [],
   "source": []
  }
 ],
 "metadata": {
  "kernelspec": {
   "display_name": "Python 3 (ipykernel)",
   "language": "python",
   "name": "python3"
  },
  "language_info": {
   "codemirror_mode": {
    "name": "ipython",
    "version": 3
   },
   "file_extension": ".py",
   "mimetype": "text/x-python",
   "name": "python",
   "nbconvert_exporter": "python",
   "pygments_lexer": "ipython3",
   "version": "3.10.6"
  }
 },
 "nbformat": 4,
 "nbformat_minor": 5
}
