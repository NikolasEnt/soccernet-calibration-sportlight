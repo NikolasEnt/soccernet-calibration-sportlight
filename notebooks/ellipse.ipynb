{
 "cells": [
  {
   "cell_type": "markdown",
   "id": "32839656",
   "metadata": {},
   "source": [
    "# Ellipse\n",
    "\n",
    "The notebook contains demonstrations of ellipse-line intersection and ellipse tangent point calculation algorithms used in constructing the target for the keypoint model."
   ]
  },
  {
   "cell_type": "code",
   "execution_count": null,
   "id": "4de440ea",
   "metadata": {},
   "outputs": [],
   "source": [
    "import cv2\n",
    "import numpy as np\n",
    "from ellipse import LsqEllipse\n",
    "from scipy.optimize import curve_fit\n",
    "from src.models.hrnet.dataset import HRNetDataset\n",
    "from src.datatools.geom import find_longest_line\n",
    "from src.datatools.ellipse import ellipse_line_intersect, find_tangent_point\n",
    "import matplotlib.pyplot as plt\n",
    "from matplotlib.patches import Ellipse\n",
    "\n",
    "%load_ext autoreload\n",
    "%autoreload 2"
   ]
  },
  {
   "cell_type": "markdown",
   "id": "ca59566b",
   "metadata": {},
   "source": [
    "### Load the data"
   ]
  },
  {
   "cell_type": "code",
   "execution_count": null,
   "id": "649acb35",
   "metadata": {},
   "outputs": [],
   "source": [
    "dataset_path = '/workdir/data/dataset/valid/'\n",
    "STRIDE = 8\n",
    "SIGMA = 7\n",
    "IMG_SIZE = (540, 960)\n",
    "dataset = HRNetDataset(dataset_path, transform=None)"
   ]
  },
  {
   "cell_type": "code",
   "execution_count": null,
   "id": "697e16c3",
   "metadata": {},
   "outputs": [],
   "source": [
    "sample = dataset[30]\n",
    "annot = sample['raw_annot']\n",
    "img = sample['image'][:, :, ::-1]\n",
    "print(annot)\n",
    "plt.imshow(img)"
   ]
  },
  {
   "cell_type": "code",
   "execution_count": null,
   "id": "269e7281",
   "metadata": {},
   "outputs": [],
   "source": [
    "circ_x = [s['x'] for s in annot['Circle central']]\n",
    "circ_y = [s['y'] for s in annot['Circle central']]\n",
    "line_x = [s['x'] for s in annot['Middle line']]\n",
    "line_y = [s['y'] for s in annot['Middle line']]"
   ]
  },
  {
   "cell_type": "markdown",
   "id": "d56b4ff8",
   "metadata": {},
   "source": [
    "### Line-ellipse intersection"
   ]
  },
  {
   "cell_type": "code",
   "execution_count": null,
   "id": "4ae81357",
   "metadata": {},
   "outputs": [],
   "source": [
    "\n",
    "conic = np.array(list(zip(circ_x, circ_y)))\n",
    "line = np.array(list(zip(line_x, line_y)))\n",
    "\n",
    "reg = LsqEllipse().fit(conic)\n",
    "conic_coeffs = reg.coefficients\n",
    "a, b = np.polyfit(line[:, 0], line[:, 1], 1)\n",
    "\n",
    "res = ellipse_line_intersect(conic_coeffs, line)\n",
    "print('Line-ellipse intersection coordinates:\\n', res)"
   ]
  },
  {
   "cell_type": "code",
   "execution_count": null,
   "id": "e796df1a",
   "metadata": {},
   "outputs": [],
   "source": [
    "center, width, height, phi = reg.as_parameters()\n",
    "fig = plt.figure(figsize=(6, 6))\n",
    "ax = plt.subplot()\n",
    "plt.gca().invert_yaxis()\n",
    "ax.plot(circ_x, circ_y, 'ro', zorder=1)  #  Red points - The points from the annotation\n",
    "ellipse = Ellipse(\n",
    "        xy=center, width=2*width, height=2*height, angle=np.rad2deg(phi),\n",
    "        edgecolor='b', fc='None', lw=2, label='Fit', zorder=2\n",
    "    )  # Blue line - the fitted ellipse\n",
    "ax.add_patch(ellipse)\n",
    "ax.plot(line_x, line_y, color='k', linestyle='-', linewidth=2)  # The black line\n",
    "ax.plot(center[0], center[1], 'bo')  # Blue point - the calculated center of the ellipse\n",
    "ax.plot(res[:, 0], res[:, 1], 'rx')  # Red crosses - calculated intersection points of the line and the ellipse\n",
    "\n",
    "plt.xlabel('$X$')\n",
    "plt.ylabel('$Y$')\n",
    "plt.legend()\n",
    "plt.show()"
   ]
  },
  {
   "cell_type": "code",
   "execution_count": null,
   "id": "aab17f0c",
   "metadata": {},
   "outputs": [],
   "source": [
    "# The line - ellipse intersection point visualization on the original image\n",
    "img_vis = img.copy()\n",
    "for point in res:\n",
    "    point = [int(np.round(p)) for p in point]\n",
    "    cv2.circle(img_vis, point, 3, (255, 0, 0), -1)\n",
    "plt.imshow(img_vis)"
   ]
  },
  {
   "cell_type": "markdown",
   "id": "d59cfdeb",
   "metadata": {},
   "source": [
    "### Tangent points"
   ]
  },
  {
   "cell_type": "code",
   "execution_count": null,
   "id": "5395a4ce",
   "metadata": {},
   "outputs": [],
   "source": [
    "point = (line_x[0], line_y[0])\n",
    "# Find coordinates of two tangent points\n",
    "px0, py0 = find_tangent_point(conic_coeffs, point, 0)\n",
    "px1, py1 = find_tangent_point(conic_coeffs, point, 1)\n",
    "x0, y0 = point\n",
    "tg_x = (px0, x0, px1)\n",
    "tg_y = (py0, y0, py1)"
   ]
  },
  {
   "cell_type": "code",
   "execution_count": null,
   "id": "8ba06d35",
   "metadata": {},
   "outputs": [],
   "source": [
    "center, width, height, phi = reg.as_parameters()\n",
    "fig = plt.figure(figsize=(6, 6), dpi=200)\n",
    "ax = plt.subplot()\n",
    "ax.axis('equal')\n",
    "ax.imshow(img.copy())\n",
    "ax.plot(circ_x, circ_y, 'ro', zorder=1, markersize=3)  # Red dots - ellipse points from the annotation\n",
    "\n",
    "ellipse = Ellipse(\n",
    "        xy=center, width=2*width, height=2*height, angle=np.rad2deg(phi),\n",
    "        fc='None', lw=1, label='Fit', zorder=1, color='brown'\n",
    "    )  # Brown (dark red) line - the ellipse fit\n",
    "ax.add_patch(ellipse)\n",
    "ax.plot(line_x, line_y, color='b', linestyle='-', linewidth=1)  # The blue line\n",
    "ax.plot(tg_x, tg_y, color='purple', linestyle='-', linewidth=0.5)  # Purple lines - the tangent lines\n",
    "ax.plot(res[:, 0], res[:, 1], 'gx')  # Gren crosses - the calculated line-ellipse intersection points\n",
    "ax.plot(tg_x[::2], tg_y[::2], 'purple', marker='+', linestyle='none')  # Purple pluses - the calculated tangent points\n",
    "\n",
    "plt.xlabel('$X$')\n",
    "plt.ylabel('$Y$')\n",
    "plt.legend()\n",
    "plt.show()"
   ]
  }
 ],
 "metadata": {
  "kernelspec": {
   "display_name": "Python 3 (ipykernel)",
   "language": "python",
   "name": "python3"
  },
  "language_info": {
   "codemirror_mode": {
    "name": "ipython",
    "version": 3
   },
   "file_extension": ".py",
   "mimetype": "text/x-python",
   "name": "python",
   "nbconvert_exporter": "python",
   "pygments_lexer": "ipython3",
   "version": "3.10.6"
  }
 },
 "nbformat": 4,
 "nbformat_minor": 5
}
